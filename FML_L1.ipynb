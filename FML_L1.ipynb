{
  "nbformat": 4,
  "nbformat_minor": 0,
  "metadata": {
    "colab": {
      "name": "FML_L1.ipynb",
      "provenance": [],
      "collapsed_sections": [],
      "toc_visible": true,
      "authorship_tag": "ABX9TyMtor8g8/Q8yGFGleSELPR1",
      "include_colab_link": true
    },
    "kernelspec": {
      "name": "python3",
      "display_name": "Python 3"
    }
  },
  "cells": [
    {
      "cell_type": "markdown",
      "metadata": {
        "id": "view-in-github",
        "colab_type": "text"
      },
      "source": [
        "<a href=\"https://colab.research.google.com/github/gnicoleta/colaboratory/blob/main/FML_L1.ipynb\" target=\"_parent\"><img src=\"https://colab.research.google.com/assets/colab-badge.svg\" alt=\"Open In Colab\"/></a>"
      ]
    },
    {
      "cell_type": "markdown",
      "metadata": {
        "id": "7mWzn2_IQIVl"
      },
      "source": [
        "# 1) WARMUPEXERCISE\n",
        "> A = WARMUPEXERCISE() is an example function that returns the 5x5 identity matrix\n"
      ]
    },
    {
      "cell_type": "code",
      "metadata": {
        "id": "ZSKcOy9JQLaz",
        "outputId": "fd33e1ea-7338-4424-98da-068fa1eebef3",
        "colab": {
          "base_uri": "https://localhost:8080/",
          "height": 107
        }
      },
      "source": [
        "import numpy as np\n",
        "\n",
        "def WARMUPEXERCISE():\n",
        "  return np.eye(5)\n",
        "\n",
        "A = WARMUPEXERCISE()\n",
        "print(A)"
      ],
      "execution_count": null,
      "outputs": [
        {
          "output_type": "stream",
          "text": [
            "[[1. 0. 0. 0. 0.]\n",
            " [0. 1. 0. 0. 0.]\n",
            " [0. 0. 1. 0. 0.]\n",
            " [0. 0. 0. 1. 0.]\n",
            " [0. 0. 0. 0. 1.]]\n"
          ],
          "name": "stdout"
        }
      ]
    },
    {
      "cell_type": "markdown",
      "metadata": {
        "id": "yvmHl_f8QOx3"
      },
      "source": [
        "# 2) PLOTDATA \n",
        "Plots the data points x and y into a new figure \n",
        "<br/>PLOTDATA(x,y) plots the data points and gives the figure axes labels of population and profit.\n",
        "\n",
        "<br/>Instructions: Plot the training data into a figure using the \"figure\" and \"plot\" commands. Set the axes labels using the \"xlabel\" and \"ylabel\" commands. Assume the population and revenue data have been passed in as the x and y arguments of this function.\n",
        "<br/>\n",
        "Hint: You can use the 'rx' option with plot to have the markers appear as red crosses. Furthermore, you can make the markers larger by using plot(..., 'rx', 'MarkerSize', 10);"
      ]
    },
    {
      "cell_type": "code",
      "metadata": {
        "id": "i10CpiZ5QQWb",
        "outputId": "9a9c1574-af4e-4032-c46f-5d20caeb733c",
        "colab": {
          "base_uri": "https://localhost:8080/",
          "height": 357
        }
      },
      "source": [
        "import numpy as np\n",
        "import matplotlib.pyplot as plt\n",
        "import csv\n",
        "\n",
        "x_coords = [];\n",
        "y_coords = [];\n",
        "\n",
        "with open('sample_data/ex1data1.txt', mode='r') as csv_file:\n",
        "    csv_reader = csv.DictReader(csv_file)\n",
        "    line_count = 0\n",
        "    for row in csv_reader:\n",
        "        if line_count == 0:\n",
        "            line_count += 1\n",
        "        x_coords += [float(row[\"x\"])]\n",
        "        y_coords += [float(row[\"y\"])]\n",
        "        line_count += 1\n",
        "    print(f'Processed {line_count} lines.')\n",
        "\n",
        "print(x_coords)\n",
        "print(y_coords)\n",
        "\n",
        "# Creating a numpy array\n",
        "X = np.array(x_coords)\n",
        "Y = np.array(y_coords)\n",
        "# Plotting point using scatter method\n",
        "plt.scatter(X,Y,marker =\"x\",c = 'red',s=50) #c si for color, s is for size\n",
        "plt.axis([4, 24, -5 , 25]) #xmin, xmax, ymin, ymax\n",
        "plt.xlabel('Population of City in 10,000s')\n",
        "plt.ylabel('Profit in $10,000s')\n",
        "plt.show()"
      ],
      "execution_count": null,
      "outputs": [
        {
          "output_type": "stream",
          "text": [
            "Processed 98 lines.\n",
            "[6.1101, 5.5277, 8.5186, 7.0032, 5.8598, 8.3829, 7.4764, 8.5781, 6.4862, 5.0546, 5.7107, 14.164, 5.734, 8.4084, 5.6407, 5.3794, 6.3654, 5.1301, 6.4296, 7.0708, 6.1891, 20.27, 5.4901, 6.3261, 5.5649, 18.945, 12.828, 10.957, 13.176, 22.203, 5.2524, 6.5894, 9.2482, 5.8918, 8.2111, 7.9334, 8.0959, 5.6063, 12.836, 6.3534, 5.4069, 6.8825, 11.708, 5.7737, 7.8247, 7.0931, 5.0702, 5.8014, 11.7, 5.5416, 7.5402, 5.3077, 7.4239, 7.6031, 6.3328, 6.3589, 6.2742, 5.6397, 9.3102, 9.4536, 8.8254, 5.1793, 21.279, 14.908, 18.959, 7.2182, 8.2951, 10.236, 5.4994, 20.341, 10.136, 7.3345, 6.0062, 7.2259, 5.0269, 6.5479, 7.5386, 5.0365, 10.274, 5.1077, 5.7292, 5.1884, 6.3557, 9.7687, 6.5159, 8.5172, 9.1802, 6.002, 5.5204, 5.0594, 5.7077, 7.6366, 5.8707, 5.3054, 8.2934, 13.394, 5.4369]\n",
            "[17.592, 9.1302, 13.662, 11.854, 6.8233, 11.886, 4.3483, 12.0, 6.5987, 3.8166, 3.2522, 15.505, 3.1551, 7.2258, 0.71618, 3.5129, 5.3048, 0.56077, 3.6518, 5.3893, 3.1386, 21.767, 4.263, 5.1875, 3.0825, 22.638, 13.501, 7.0467, 14.692, 24.147, -1.22, 5.9966, 12.134, 1.8495, 6.5426, 4.5623, 4.1164, 3.3928, 10.117, 5.4974, 0.55657, 3.9115, 5.3854, 2.4406, 6.7318, 1.0463, 5.1337, 1.844, 8.0043, 1.0179, 6.7504, 1.8396, 4.2885, 4.9981, 1.4233, -1.4211, 2.4756, 4.6042, 3.9624, 5.4141, 5.1694, -0.74279, 17.929, 12.054, 17.054, 4.8852, 5.7442, 7.7754, 1.0173, 20.992, 6.6799, 4.0259, 1.2784, 3.3411, -2.6807, 0.29678, 3.8845, 5.7014, 6.7526, 2.0576, 0.47953, 0.20421, 0.67861, 7.5435, 5.3436, 4.2415, 6.7981, 0.92695, 0.152, 2.8214, 1.8451, 4.2959, 7.2029, 1.9869, 0.14454, 9.0551, 0.61705]\n"
          ],
          "name": "stdout"
        },
        {
          "output_type": "display_data",
          "data": {
            "image/png": "[encoded data removed]",
            "text/plain": [
              "<Figure size 432x288 with 1 Axes>"
            ]
          },
          "metadata": {
            "tags": [],
            "needs_background": "light"
          }
        }
      ]
    },
    {
      "cell_type": "markdown",
      "metadata": {
        "id": "ElFaV10nUDEJ"
      },
      "source": [
        "# 3) Compute cost"
      ]
    },
    {
      "cell_type": "code",
      "metadata": {
        "id": "y24ZnuypXLV-",
        "outputId": "ecea0d4d-e82a-4733-f6cf-f8acbb9be28f",
        "colab": {
          "base_uri": "https://localhost:8080/",
          "height": 35
        }
      },
      "source": [
        "def computeCosts(X, Y, theta):\n",
        "  m = len(Y);\n",
        "  J = 0;\n",
        "  sum = 0;\n",
        "  for i in range(0,m):\n",
        "    sum += pow(((theta[0] + theta[1]*X[i]) - Y[i]), 2);\n",
        "  \n",
        "  J = (1/(2*m))*sum;\n",
        "  return J\n",
        "\n",
        "print(computeCosts(x_coords, y_coords, [0,0]))\n",
        "\n",
        "#the derivative for theta0\n",
        "def derivComputeCosts0(X, Y, theta):\n",
        "  m = len(Y);\n",
        "  J = 0;\n",
        "  sum = 0;\n",
        "  for i in range(0,m):\n",
        "    sum += ((theta[0] + theta[1]*X[i]) - Y[i]);\n",
        "  \n",
        "  J = (1/m)*sum;\n",
        "  return J\n",
        "#print(derivComputeCosts0(x_coords, y_coords, [0,0]))\n",
        "\n",
        "#the derivative for theta1\n",
        "def derivComputeCosts1(X, Y, theta):\n",
        "  m = len(Y);\n",
        "  J = 0;\n",
        "  sum = 0;\n",
        "  for i in range(0,m):\n",
        "    sum += (((theta[0] + theta[1]*X[i]) - Y[i])*X[i]);\n",
        "  \n",
        "  J = (1/m)*sum;\n",
        "  return J\n",
        "#print(derivComputeCosts1(x_coords, y_coords, [0,0]))"
      ],
      "execution_count": null,
      "outputs": [
        {
          "output_type": "stream",
          "text": [
            "32.072733877455654\n"
          ],
          "name": "stdout"
        }
      ]
    },
    {
      "cell_type": "markdown",
      "metadata": {
        "id": "0MaLbqlyaYjp"
      },
      "source": [
        "# 4) Gradient descent\n",
        "GRADIENTDESCENT Performs gradient descent to learn theta theta = GRADIENTDESENT(X, y, theta, alpha, num_iters) updates theta by taking num_iters gradient steps with learning rate alpha\n",
        "\n",
        "Initialize some useful values m = length(y); % number of training examples J_history = zeros(num_iters, 1);"
      ]
    },
    {
      "cell_type": "code",
      "metadata": {
        "id": "VMCCX0vPRLcn",
        "outputId": "f26dde8c-1897-42cb-b3bb-48fbf852f210",
        "colab": {
          "base_uri": "https://localhost:8080/",
          "height": 55
        }
      },
      "source": [
        "import numpy as np\n",
        "\n",
        "def gradientDescent(X, Y, theta, alpha, num_iters):\n",
        "  m = len(Y);\n",
        "  j_costs = []\n",
        "  for i in range(0,num_iters):\n",
        "    theta_aux = np.array(theta); #store the init values of the theta at once\n",
        "\n",
        "    #update the values of the theta simultaneously\n",
        "    theta[0] = theta[0] - alpha * derivComputeCosts0(x_coords, y_coords, theta_aux);\n",
        "    theta[1] = theta[1] - alpha * derivComputeCosts1(x_coords, y_coords, theta_aux);\n",
        "    #print(\"Initial theta values:\",theta_aux)\n",
        "    #print(\"Updated theta values:\",theta)\n",
        "    #print(\"J:\",computeCosts(x_coords, y_coords, theta_aux))\n",
        "    j_costs += [computeCosts(x_coords, y_coords, theta_aux)]\n",
        "  return j_costs\n",
        "\n",
        "\n",
        "print(gradientDescent(x_coords, y_coords, [0,0], 0.01, 15))\n",
        "\n",
        "\n",
        "\n",
        "\n"
      ],
      "execution_count": null,
      "outputs": [
        {
          "output_type": "stream",
          "text": [
            "[32.072733877455654, 6.737190464870008, 5.931593568604957, 5.901154707081387, 5.89522858644422, 5.890094943117333, 5.885004158443646, 5.879932480491416, 5.874879094762575, 5.8698439118063845, 5.86482686531293, 5.8598278899321805, 5.85484692057229, 5.849883892376585, 5.844938740722035]\n"
          ],
          "name": "stdout"
        }
      ]
    },
    {
      "cell_type": "markdown",
      "metadata": {
        "id": "e4L1FBEdtypO"
      },
      "source": [
        "# PLOT: Training data with linear regression fit"
      ]
    },
    {
      "cell_type": "code",
      "metadata": {
        "id": "b5-4qDXMtzsn",
        "outputId": "457fe624-4588-4275-d897-b8648ddaeac8",
        "colab": {
          "base_uri": "https://localhost:8080/",
          "height": 357
        }
      },
      "source": [
        "import numpy as np\n",
        "import matplotlib.pyplot as plt\n",
        "import csv\n",
        "\n",
        "x_coords = [];\n",
        "y_coords = [];\n",
        "j_costs = [];\n",
        "\n",
        "with open('sample_data/ex1data1.txt', mode='r') as csv_file:\n",
        "    csv_reader = csv.DictReader(csv_file)\n",
        "    line_count = 0\n",
        "    for row in csv_reader:\n",
        "        if line_count == 0:\n",
        "            line_count += 1\n",
        "        x_coords += [float(row[\"x\"])]\n",
        "        y_coords += [float(row[\"y\"])]\n",
        "        line_count += 1\n",
        "    print(f'Processed {line_count} lines.')\n",
        "\n",
        "print(x_coords)\n",
        "print(y_coords)\n",
        "\n",
        "# Creating a numpy array\n",
        "X = np.array(x_coords)\n",
        "Y = np.array(y_coords)\n",
        "# Plotting point using scatter method\n",
        "plt.scatter(X,Y,marker =\"x\",c = 'red',s=50, label='training data') #c si for color, s is for size\n",
        "plt.axis([4, 24, -5 , 25]) #xmin, xmax, ymin, ymax\n",
        "plt.xlabel('Population of City in 10,000s')\n",
        "plt.ylabel('Profit in $10,000s')\n",
        "\n",
        "j_costs = gradientDescent(x_coords, y_coords, [0,0], 0.01, 1500)\n",
        "plt.plot(j_costs,j_costs,label='linear regression')\n",
        "plt.legend(bbox_to_anchor=(1.05, 1), loc=2, borderaxespad=0.)\n",
        "plt.show()"
      ],
      "execution_count": null,
      "outputs": [
        {
          "output_type": "stream",
          "text": [
            "Processed 98 lines.\n",
            "[6.1101, 5.5277, 8.5186, 7.0032, 5.8598, 8.3829, 7.4764, 8.5781, 6.4862, 5.0546, 5.7107, 14.164, 5.734, 8.4084, 5.6407, 5.3794, 6.3654, 5.1301, 6.4296, 7.0708, 6.1891, 20.27, 5.4901, 6.3261, 5.5649, 18.945, 12.828, 10.957, 13.176, 22.203, 5.2524, 6.5894, 9.2482, 5.8918, 8.2111, 7.9334, 8.0959, 5.6063, 12.836, 6.3534, 5.4069, 6.8825, 11.708, 5.7737, 7.8247, 7.0931, 5.0702, 5.8014, 11.7, 5.5416, 7.5402, 5.3077, 7.4239, 7.6031, 6.3328, 6.3589, 6.2742, 5.6397, 9.3102, 9.4536, 8.8254, 5.1793, 21.279, 14.908, 18.959, 7.2182, 8.2951, 10.236, 5.4994, 20.341, 10.136, 7.3345, 6.0062, 7.2259, 5.0269, 6.5479, 7.5386, 5.0365, 10.274, 5.1077, 5.7292, 5.1884, 6.3557, 9.7687, 6.5159, 8.5172, 9.1802, 6.002, 5.5204, 5.0594, 5.7077, 7.6366, 5.8707, 5.3054, 8.2934, 13.394, 5.4369]\n",
            "[17.592, 9.1302, 13.662, 11.854, 6.8233, 11.886, 4.3483, 12.0, 6.5987, 3.8166, 3.2522, 15.505, 3.1551, 7.2258, 0.71618, 3.5129, 5.3048, 0.56077, 3.6518, 5.3893, 3.1386, 21.767, 4.263, 5.1875, 3.0825, 22.638, 13.501, 7.0467, 14.692, 24.147, -1.22, 5.9966, 12.134, 1.8495, 6.5426, 4.5623, 4.1164, 3.3928, 10.117, 5.4974, 0.55657, 3.9115, 5.3854, 2.4406, 6.7318, 1.0463, 5.1337, 1.844, 8.0043, 1.0179, 6.7504, 1.8396, 4.2885, 4.9981, 1.4233, -1.4211, 2.4756, 4.6042, 3.9624, 5.4141, 5.1694, -0.74279, 17.929, 12.054, 17.054, 4.8852, 5.7442, 7.7754, 1.0173, 20.992, 6.6799, 4.0259, 1.2784, 3.3411, -2.6807, 0.29678, 3.8845, 5.7014, 6.7526, 2.0576, 0.47953, 0.20421, 0.67861, 7.5435, 5.3436, 4.2415, 6.7981, 0.92695, 0.152, 2.8214, 1.8451, 4.2959, 7.2029, 1.9869, 0.14454, 9.0551, 0.61705]\n"
          ],
          "name": "stdout"
        },
        {
          "output_type": "display_data",
          "data": {
            "image/png": "[encoded data removed]",
            "text/plain": [
              "<Figure size 432x288 with 1 Axes>"
            ]
          },
          "metadata": {
            "tags": [],
            "needs_background": "light"
          }
        }
      ]
    }
  ]
}